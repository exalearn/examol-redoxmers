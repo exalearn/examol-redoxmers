{
 "cells": [
  {
   "cell_type": "markdown",
   "id": "c542a41a-013e-4600-b018-cb9128e922d5",
   "metadata": {},
   "source": [
    "# Summarize Results of Model Training\n",
    "Find the best model for each porblem"
   ]
  },
  {
   "cell_type": "code",
   "execution_count": 1,
   "id": "250ff8cc-7901-41a2-8808-2d5fcfd28f4f",
   "metadata": {
    "tags": []
   },
   "outputs": [],
   "source": [
    "%matplotlib inline\n",
    "from matplotlib import pyplot as plt\n",
    "from sklearn.metrics import mean_absolute_error, r2_score\n",
    "from pathlib import Path\n",
    "import pandas as pd\n",
    "import json"
   ]
  },
  {
   "cell_type": "markdown",
   "id": "7e0a2245-6fd2-4947-a1c8-d337bd49280e",
   "metadata": {},
   "source": [
    "Configuration"
   ]
  },
  {
   "cell_type": "code",
   "execution_count": 16,
   "id": "1680a22b-7450-4ccd-8f8a-9698981af846",
   "metadata": {
    "tags": []
   },
   "outputs": [],
   "source": [
    "prop, level = 'oxidation_potential', 'cp2k_b3lyp_tzvpd-acn-adiabatic'"
   ]
  },
  {
   "cell_type": "markdown",
   "id": "13614a97-2321-4974-8306-41d56925580d",
   "metadata": {},
   "source": [
    "## Load all records\n",
    "The last thing our training script does is write `params.json`. Find these files then load in the assoicated data"
   ]
  },
  {
   "cell_type": "code",
   "execution_count": 17,
   "id": "afd3e3f0-57f3-44c8-95aa-06bcada37ac9",
   "metadata": {},
   "outputs": [
    {
     "name": "stdout",
     "output_type": "stream",
     "text": [
      "Found 17 completed runs\n"
     ]
    }
   ],
   "source": [
    "complete_runs = [x.parent for x in Path('runs').glob('*/test_summary.json')]\n",
    "print(f'Found {len(complete_runs)} completed runs')"
   ]
  },
  {
   "cell_type": "code",
   "execution_count": 18,
   "id": "00256cd7-25c5-491f-aa78-188cfcb3e444",
   "metadata": {},
   "outputs": [],
   "source": [
    "def load_summary(path: Path) -> dict:\n",
    "    \"\"\"Load the summary of the run configuration and parameters\n",
    "    \n",
    "    Args:\n",
    "        path: Path to the run\n",
    "    Returns:\n",
    "        Summary of inputs and results\n",
    "    \"\"\"\n",
    "    \n",
    "    # Load the configuration and summary\n",
    "    output = {'path': path, 'starting_model': path.parent.name}\n",
    "    output.update(json.loads((path / 'params.json').read_text()))\n",
    "    output.update(json.loads((path / 'test_summary.json').read_text()))\n",
    "    output['level_count'] = len(output['lower_levels'])\n",
    "    return output"
   ]
  },
  {
   "cell_type": "markdown",
   "id": "59b4b3a9-9490-4942-aab6-4e5b0d48dab4",
   "metadata": {},
   "source": [
    "Gather results and sort by the error with no data available about the molecule (most common case in our pipelines)"
   ]
  },
  {
   "cell_type": "code",
   "execution_count": 19,
   "id": "6f977241-23c2-445a-8315-0f419360e8e4",
   "metadata": {},
   "outputs": [
    {
     "data": {
      "text/html": [
       "<div>\n",
       "<style scoped>\n",
       "    .dataframe tbody tr th:only-of-type {\n",
       "        vertical-align: middle;\n",
       "    }\n",
       "\n",
       "    .dataframe tbody tr th {\n",
       "        vertical-align: top;\n",
       "    }\n",
       "\n",
       "    .dataframe thead th {\n",
       "        text-align: right;\n",
       "    }\n",
       "</style>\n",
       "<table border=\"1\" class=\"dataframe\">\n",
       "  <thead>\n",
       "    <tr style=\"text-align: right;\">\n",
       "      <th></th>\n",
       "      <th>path</th>\n",
       "      <th>epochs</th>\n",
       "      <th>target_method</th>\n",
       "      <th>level_0_mean_absolute_error</th>\n",
       "    </tr>\n",
       "  </thead>\n",
       "  <tbody>\n",
       "    <tr>\n",
       "      <th>16</th>\n",
       "      <td>runs/model=EGNN-prop=oxidation_potential_cp2k_...</td>\n",
       "      <td>128</td>\n",
       "      <td>cp2k_b3lyp_tzvpd-acn-adiabatic</td>\n",
       "      <td>0.169955</td>\n",
       "    </tr>\n",
       "    <tr>\n",
       "      <th>8</th>\n",
       "      <td>runs/model=EGNN-prop=oxidation_potential_mopac...</td>\n",
       "      <td>128</td>\n",
       "      <td>mopac_pm7-acn-adiabatic</td>\n",
       "      <td>0.180533</td>\n",
       "    </tr>\n",
       "  </tbody>\n",
       "</table>\n",
       "</div>"
      ],
      "text/plain": [
       "                                                 path  epochs  \\\n",
       "16  runs/model=EGNN-prop=oxidation_potential_cp2k_...     128   \n",
       "8   runs/model=EGNN-prop=oxidation_potential_mopac...     128   \n",
       "\n",
       "                     target_method  level_0_mean_absolute_error  \n",
       "16  cp2k_b3lyp_tzvpd-acn-adiabatic                     0.169955  \n",
       "8          mopac_pm7-acn-adiabatic                     0.180533  "
      ]
     },
     "execution_count": 19,
     "metadata": {},
     "output_type": "execute_result"
    }
   ],
   "source": [
    "summary = pd.DataFrame(map(load_summary, complete_runs)).sort_values('level_0_mean_absolute_error')\n",
    "summary.groupby('target_method').head(1)[['path', 'epochs', 'target_method', 'level_0_mean_absolute_error']]"
   ]
  },
  {
   "cell_type": "markdown",
   "id": "678f3459-7479-46d2-9796-f4f2558b25d8",
   "metadata": {},
   "source": [
    "Save summary to CSV for later use"
   ]
  },
  {
   "cell_type": "code",
   "execution_count": 20,
   "id": "8de9af1a-7e66-4bdd-9eb7-5eaba69144b4",
   "metadata": {
    "tags": []
   },
   "outputs": [],
   "source": [
    "summary.to_csv('model-summary.csv', index=False)"
   ]
  },
  {
   "cell_type": "markdown",
   "id": "459cc7cc-839b-4037-b297-d2317a77363c",
   "metadata": {},
   "source": [
    "## Plot Performance of Best Model\n",
    "Plot the predicted vs actual and the learning as a function of epoch"
   ]
  },
  {
   "cell_type": "code",
   "execution_count": 21,
   "id": "87577946-7ba0-4357-a14a-7fdf33b2f04a",
   "metadata": {
    "tags": []
   },
   "outputs": [],
   "source": [
    "target_runs = summary.query(f'target_property==\"{prop}\" and target_method==\"{level}\" and level_count>=2').sort_values('level_0_mean_absolute_error')"
   ]
  },
  {
   "cell_type": "code",
   "execution_count": 23,
   "id": "31464694-e2d4-43a1-96ed-35126c6a67dc",
   "metadata": {
    "tags": []
   },
   "outputs": [
    {
     "data": {
      "text/plain": [
       "{'hidden_dim': 64,\n",
       " 'num_conv': 4,\n",
       " 'pool_before_output': 1,\n",
       " 'pool_operation': 'mean',\n",
       " 'num_output_layers': 4}"
      ]
     },
     "execution_count": 23,
     "metadata": {},
     "output_type": "execute_result"
    }
   ],
   "source": [
    "best_run = target_runs.sort_values('level_0_mean_absolute_error').iloc[0]\n",
    "best_run['model_kwargs']"
   ]
  },
  {
   "cell_type": "code",
   "execution_count": 24,
   "id": "da4b2c80-dd42-4310-8ff1-f54f79e0ea77",
   "metadata": {
    "tags": []
   },
   "outputs": [
    {
     "data": {
      "text/plain": [
       "path                           runs/model=EGNN-prop=oxidation_potential_cp2k_...\n",
       "starting_model                                                              runs\n",
       "seed                                                                    12156906\n",
       "data_path                                                    ../datasets/mdf-mos\n",
       "learning_rate                                                             0.0005\n",
       "weight_decay                                                                 0.0\n",
       "model_kwargs                   {'hidden_dim': 64, 'num_conv': 4, 'pool_before...\n",
       "num_loaders                                                                    4\n",
       "batch_size                                                                    64\n",
       "model                                                                       EGNN\n",
       "epochs                                                                       128\n",
       "fast_runs                                                                   None\n",
       "target_property                                              oxidation_potential\n",
       "target_method                                     cp2k_b3lyp_tzvpd-acn-adiabatic\n",
       "lower_levels                   [xtb-adiabatic, cp2k_b3lyp_svp-acn-vertical, c...\n",
       "train_counts                                                              168203\n",
       "name                                                         oxidation_potential\n",
       "level                                             cp2k_b3lyp_tzvpd-acn-adiabatic\n",
       "data_hash                                       fcec9c1ad35c4e47dd513ff6c10d0994\n",
       "level_2_mean_absolute_error                                              0.07903\n",
       "level_2_r2_score                                                          0.8481\n",
       "level_2_mean_squared_error                                              0.008872\n",
       "level_1_mean_absolute_error                                             0.192845\n",
       "level_1_r2_score                                                        0.051924\n",
       "level_1_mean_squared_error                                              0.055372\n",
       "level_0_mean_absolute_error                                             0.169955\n",
       "level_0_r2_score                                                        0.233558\n",
       "level_0_mean_squared_error                                              0.044763\n",
       "level_count                                                                    3\n",
       "level_3_mean_absolute_error                                              0.07666\n",
       "level_3_r2_score                                                        0.872645\n",
       "level_3_mean_squared_error                                              0.007438\n",
       "Name: 16, dtype: object"
      ]
     },
     "execution_count": 24,
     "metadata": {},
     "output_type": "execute_result"
    }
   ],
   "source": [
    "best_run"
   ]
  },
  {
   "cell_type": "markdown",
   "id": "13dd05cc-fb1f-4b7e-95c5-0fd1dd96ce55",
   "metadata": {},
   "source": [
    "Predicted vs Actual"
   ]
  },
  {
   "cell_type": "code",
   "execution_count": 25,
   "id": "5e8eb6c9-40d1-42de-8723-839dffce4a74",
   "metadata": {
    "tags": []
   },
   "outputs": [],
   "source": [
    "test_data = pd.read_csv(best_run.path / 'test_results.csv.gz')\n",
    "print('"
   ]
  },
  {
   "cell_type": "code",
   "execution_count": 26,
   "id": "7c2ca5b3-4769-4a65-bb80-b6e05e532164",
   "metadata": {},
   "outputs": [
    {
     "data": {
      "image/png": "[encoded data removed]",
      "text/plain": [
       "<Figure size 350x350 with 1 Axes>"
      ]
     },
     "metadata": {},
     "output_type": "display_data"
    }
   ],
   "source": [
    "fig, ax = plt.subplots(figsize=(3.5, 3.5))\n",
    "\n",
    "ax.scatter(test_data['level_0-pred'], test_data['true'], s=4)\n",
    "\n",
    "ax.set_xlim(ax.get_xlim())\n",
    "ax.set_ylim(ax.get_ylim())\n",
    "\n",
    "ax.plot(ax.get_xlim(), ax.get_xlim(), 'k--')\n",
    "\n",
    "ax.set_xlabel('Predicted')\n",
    "ax.set_ylabel('Actual')\n",
    "\n",
    "fig.tight_layout()"
   ]
  },
  {
   "cell_type": "markdown",
   "id": "1fe6c97d-e510-42a1-b74e-c458af6064b1",
   "metadata": {},
   "source": [
    "## Show the effect of adding levels\n",
    "The error should go down the more information we have about the molecule"
   ]
  },
  {
   "cell_type": "code",
   "execution_count": 27,
   "id": "e9ded535-486f-4109-ac0d-a3f58dc9b704",
   "metadata": {
    "tags": []
   },
   "outputs": [
    {
     "name": "stdout",
     "output_type": "stream",
     "text": [
      "Displaying results with 4 levels of data: ['xtb-adiabatic', 'cp2k_b3lyp_svp-acn-vertical', 'cp2k_b3lyp_svp-acn-adiabatic']\n"
     ]
    }
   ],
   "source": [
    "n_levels = len(best_run['lower_levels']) + 1\n",
    "print(f'Displaying results with {n_levels} levels of data: {best_run[\"lower_levels\"]}')"
   ]
  },
  {
   "cell_type": "markdown",
   "id": "6ef32c32-1dd6-4426-98c0-92abed555252",
   "metadata": {},
   "source": [
    "Show the MAE as a function of level"
   ]
  },
  {
   "cell_type": "code",
   "execution_count": 28,
   "id": "564c1b9d-24d3-4629-b97f-da455cd1ac29",
   "metadata": {
    "tags": []
   },
   "outputs": [
    {
     "data": {
      "text/plain": [
       "Text(0, 0.5, 'MAE (V)')"
      ]
     },
     "execution_count": 28,
     "metadata": {},
     "output_type": "execute_result"
    },
    {
     "data": {
      "image/png": "[encoded data removed]",
      "text/plain": [
       "<Figure size 350x250 with 1 Axes>"
      ]
     },
     "metadata": {},
     "output_type": "display_data"
    }
   ],
   "source": [
    "fig, ax = plt.subplots(figsize=(3.5, 2.5))\n",
    "\n",
    "maes = [best_run[f'level_{i}_mean_absolute_error'] for i in range(n_levels)]\n",
    "ax.plot(maes, '--o')\n",
    "\n",
    "ax.set_xlabel('Levels completed')\n",
    "ax.set_ylabel('MAE (V)')"
   ]
  },
  {
   "cell_type": "markdown",
   "id": "a94a6f84-f61a-476f-9abd-3124add68843",
   "metadata": {},
   "source": [
    "Plot predicted-vs-actual for each level"
   ]
  },
  {
   "cell_type": "code",
   "execution_count": 29,
   "id": "f0122aee-2937-4636-9507-2e744479fb96",
   "metadata": {
    "tags": []
   },
   "outputs": [
    {
     "data": {
      "image/png": "[encoded data removed]",
      "text/plain": [
       "<Figure size 1400x300 with 4 Axes>"
      ]
     },
     "metadata": {},
     "output_type": "display_data"
    }
   ],
   "source": [
    "fig, axs = plt.subplots(1, n_levels, figsize=(3.5 * n_levels, 3.), sharey=True, sharex=True)\n",
    "\n",
    "for level, ax in enumerate(axs):\n",
    "    ax.scatter(test_data[f'level_{level}-pred'], test_data['true'], s=4, edgecolor='none', alpha=0.5)\n",
    "    ax.set_title(f'Level: {level}', fontsize=10)\n",
    "    ax.set_xlabel('Predicted')\n",
    "    \n",
    "# Add the y=x line\n",
    "for ax in axs:\n",
    "    ax.set_xlim(ax.get_ylim())\n",
    "    ax.set_ylim(ax.get_ylim())\n",
    "    \n",
    "    ax.plot(ax.get_xlim(), ax.get_xlim(), 'k--', lw=1)\n",
    "\n",
    "\n",
    "axs[0].set_ylabel('Actual')\n",
    "fig.tight_layout()"
   ]
  },
  {
   "cell_type": "markdown",
   "id": "ffdf58cf-d5e9-4ae3-b405-1cec4e03af30",
   "metadata": {},
   "source": [
    "## Store Best Model for Each Property\n",
    "Save the type and kwargs for each level"
   ]
  },
  {
   "cell_type": "code",
   "execution_count": 30,
   "id": "fba1a01a-fec4-465c-b28e-cff27d6d71a5",
   "metadata": {
    "tags": []
   },
   "outputs": [],
   "source": [
    "best_dir = Path('best_models')\n",
    "best_dir.mkdir(exist_ok=True)\n",
    "for (prop, level), group in summary.groupby(['target_property', 'target_method']):\n",
    "    (best_dir / f'{prop}-{level}.json').write_text(\n",
    "        json.dumps(group.drop(columns='path').sort_values('level_0_r2_score').iloc[-1].to_dict(), indent=2)\n",
    "    )"
   ]
  },
  {
   "cell_type": "code",
   "execution_count": null,
   "id": "a0892249-419e-4dbf-af33-a0ab8314f59d",
   "metadata": {},
   "outputs": [],
   "source": []
  }
 ],
 "metadata": {
  "kernelspec": {
   "display_name": "Python 3 (ipykernel)",
   "language": "python",
   "name": "python3"
  },
  "language_info": {
   "codemirror_mode": {
    "name": "ipython",
    "version": 3
   },
   "file_extension": ".py",
   "mimetype": "text/x-python",
   "name": "python",
   "nbconvert_exporter": "python",
   "pygments_lexer": "ipython3",
   "version": "3.10.13"
  }
 },
 "nbformat": 4,
 "nbformat_minor": 5
}
