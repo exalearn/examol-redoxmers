{
 "cells": [
  {
   "cell_type": "markdown",
   "id": "c542a41a-013e-4600-b018-cb9128e922d5",
   "metadata": {},
   "source": [
    "# Summarize Results of Model Training\n",
    "Find the best model for each porblem"
   ]
  },
  {
   "cell_type": "code",
   "execution_count": 1,
   "id": "250ff8cc-7901-41a2-8808-2d5fcfd28f4f",
   "metadata": {
    "tags": []
   },
   "outputs": [],
   "source": [
    "%matplotlib inline\n",
    "from matplotlib import pyplot as plt\n",
    "from sklearn.metrics import mean_absolute_error, r2_score\n",
    "from pathlib import Path\n",
    "import pandas as pd\n",
    "import json"
   ]
  },
  {
   "cell_type": "markdown",
   "id": "7e0a2245-6fd2-4947-a1c8-d337bd49280e",
   "metadata": {},
   "source": [
    "Configuration"
   ]
  },
  {
   "cell_type": "code",
   "execution_count": 2,
   "id": "1680a22b-7450-4ccd-8f8a-9698981af846",
   "metadata": {
    "tags": []
   },
   "outputs": [],
   "source": [
    "prop, level = 'oxidation_potential', 'mopac_pm7-acn-adiabatic'"
   ]
  },
  {
   "cell_type": "markdown",
   "id": "13614a97-2321-4974-8306-41d56925580d",
   "metadata": {},
   "source": [
    "## Load all records\n",
    "The last thing our training script does is write `params.json`. Find these files then load in the assoicated data"
   ]
  },
  {
   "cell_type": "code",
   "execution_count": 3,
   "id": "3e0df2bf-f872-4663-87f8-4ab6103c61c8",
   "metadata": {
    "tags": []
   },
   "outputs": [
    {
     "name": "stdout",
     "output_type": "stream",
     "text": [
      "Found 11 runs\n"
     ]
    }
   ],
   "source": [
    "run_paths = list(Path('./lightning_logs/').glob('**/params.json'))\n",
    "print(f'Found {len(run_paths)} runs')"
   ]
  },
  {
   "cell_type": "markdown",
   "id": "7b8217d4-5ea3-434d-acd5-4cce5e8a3a83",
   "metadata": {},
   "source": [
    "Make the load function"
   ]
  },
  {
   "cell_type": "code",
   "execution_count": 4,
   "id": "1dfdaa76-7b5b-45b3-8a08-7cfb20a3793b",
   "metadata": {
    "tags": []
   },
   "outputs": [],
   "source": [
    "def load_run(param_path: Path) -> dict:\n",
    "    \"\"\"Load in data about a run\n",
    "    \n",
    "    Args:\n",
    "        param_path: Path to the parameter file\n",
    "    Returns:\n",
    "        Summary of the run\n",
    "    \"\"\"\n",
    "    \n",
    "    # Load the parameters\n",
    "    params = json.loads(param_path.read_text())\n",
    "    params['run_path'] = param_path.parent\n",
    "    \n",
    "    # Flatten\n",
    "    for k, v in params['model_kwargs'].items():\n",
    "        params[f'hp.{k}'] = v\n",
    "    params['model_kwargs']\n",
    "    \n",
    "    # Load the performance\n",
    "    test_data = pd.read_csv(param_path.parent / 'predictions.csv.gz')\n",
    "    params['mae'] = mean_absolute_error(test_data['true'], test_data['pred'])\n",
    "    params['r2'] = r2_score(test_data['true'], test_data['pred'])\n",
    "    return params"
   ]
  },
  {
   "cell_type": "code",
   "execution_count": 5,
   "id": "2526590f-e4ac-4845-95bc-2688582ac262",
   "metadata": {
    "tags": []
   },
   "outputs": [
    {
     "data": {
      "text/html": [
       "<div>\n",
       "<style scoped>\n",
       "    .dataframe tbody tr th:only-of-type {\n",
       "        vertical-align: middle;\n",
       "    }\n",
       "\n",
       "    .dataframe tbody tr th {\n",
       "        vertical-align: top;\n",
       "    }\n",
       "\n",
       "    .dataframe thead th {\n",
       "        text-align: right;\n",
       "    }\n",
       "</style>\n",
       "<table border=\"1\" class=\"dataframe\">\n",
       "  <thead>\n",
       "    <tr style=\"text-align: right;\">\n",
       "      <th></th>\n",
       "      <th>seed</th>\n",
       "      <th>data_path</th>\n",
       "      <th>learning_rate</th>\n",
       "      <th>weight_decay</th>\n",
       "      <th>model_kwargs</th>\n",
       "      <th>num_loaders</th>\n",
       "      <th>batch_size</th>\n",
       "      <th>model</th>\n",
       "      <th>epochs</th>\n",
       "      <th>fast_runs</th>\n",
       "      <th>target_property</th>\n",
       "      <th>target_method</th>\n",
       "      <th>run_path</th>\n",
       "      <th>hp.hidden_dim</th>\n",
       "      <th>hp.num_conv</th>\n",
       "      <th>mae</th>\n",
       "      <th>r2</th>\n",
       "    </tr>\n",
       "  </thead>\n",
       "  <tbody>\n",
       "    <tr>\n",
       "      <th>2</th>\n",
       "      <td>12156906</td>\n",
       "      <td>../datasets/mdf-mos</td>\n",
       "      <td>0.0005</td>\n",
       "      <td>0.0</td>\n",
       "      <td>{'hidden_dim': 256, 'num_conv': 6}</td>\n",
       "      <td>4</td>\n",
       "      <td>64</td>\n",
       "      <td>EGNN</td>\n",
       "      <td>32</td>\n",
       "      <td>None</td>\n",
       "      <td>oxidation_potential</td>\n",
       "      <td>xtb-vertical</td>\n",
       "      <td>lightning_logs/version_4</td>\n",
       "      <td>256</td>\n",
       "      <td>6.0</td>\n",
       "      <td>0.078455</td>\n",
       "      <td>0.924612</td>\n",
       "    </tr>\n",
       "    <tr>\n",
       "      <th>8</th>\n",
       "      <td>12156906</td>\n",
       "      <td>../datasets/mdf-mos</td>\n",
       "      <td>0.0005</td>\n",
       "      <td>0.0</td>\n",
       "      <td>{'hidden_dim': 256, 'num_conv': 6}</td>\n",
       "      <td>4</td>\n",
       "      <td>64</td>\n",
       "      <td>EGNN</td>\n",
       "      <td>32</td>\n",
       "      <td>None</td>\n",
       "      <td>oxidation_potential</td>\n",
       "      <td>xtb-vertical</td>\n",
       "      <td>lightning_logs/version_5</td>\n",
       "      <td>256</td>\n",
       "      <td>6.0</td>\n",
       "      <td>0.082232</td>\n",
       "      <td>0.918855</td>\n",
       "    </tr>\n",
       "    <tr>\n",
       "      <th>5</th>\n",
       "      <td>12156906</td>\n",
       "      <td>../datasets/mdf-mos</td>\n",
       "      <td>0.0005</td>\n",
       "      <td>0.0</td>\n",
       "      <td>{'hidden_dim': 128, 'num_conv': 6}</td>\n",
       "      <td>4</td>\n",
       "      <td>64</td>\n",
       "      <td>EGNN</td>\n",
       "      <td>32</td>\n",
       "      <td>None</td>\n",
       "      <td>oxidation_potential</td>\n",
       "      <td>xtb-vertical</td>\n",
       "      <td>lightning_logs/version_3</td>\n",
       "      <td>128</td>\n",
       "      <td>6.0</td>\n",
       "      <td>0.083626</td>\n",
       "      <td>0.917218</td>\n",
       "    </tr>\n",
       "    <tr>\n",
       "      <th>9</th>\n",
       "      <td>12156906</td>\n",
       "      <td>../datasets/mdf-mos</td>\n",
       "      <td>0.0005</td>\n",
       "      <td>0.0</td>\n",
       "      <td>{'hidden_dim': 128}</td>\n",
       "      <td>4</td>\n",
       "      <td>64</td>\n",
       "      <td>EGNN</td>\n",
       "      <td>32</td>\n",
       "      <td>None</td>\n",
       "      <td>oxidation_potential</td>\n",
       "      <td>xtb-vertical</td>\n",
       "      <td>lightning_logs/version_2</td>\n",
       "      <td>128</td>\n",
       "      <td>NaN</td>\n",
       "      <td>0.086950</td>\n",
       "      <td>0.909957</td>\n",
       "    </tr>\n",
       "    <tr>\n",
       "      <th>7</th>\n",
       "      <td>12156906</td>\n",
       "      <td>../datasets/mdf-mos</td>\n",
       "      <td>0.0005</td>\n",
       "      <td>0.0</td>\n",
       "      <td>{'hidden_dim': 128}</td>\n",
       "      <td>4</td>\n",
       "      <td>64</td>\n",
       "      <td>EGNN</td>\n",
       "      <td>16</td>\n",
       "      <td>None</td>\n",
       "      <td>oxidation_potential</td>\n",
       "      <td>xtb-vertical</td>\n",
       "      <td>lightning_logs/version_1</td>\n",
       "      <td>128</td>\n",
       "      <td>NaN</td>\n",
       "      <td>0.090044</td>\n",
       "      <td>0.902878</td>\n",
       "    </tr>\n",
       "    <tr>\n",
       "      <th>6</th>\n",
       "      <td>12156906</td>\n",
       "      <td>../datasets/mdf-mos</td>\n",
       "      <td>0.0005</td>\n",
       "      <td>0.0</td>\n",
       "      <td>{'hidden_dim': 128}</td>\n",
       "      <td>4</td>\n",
       "      <td>64</td>\n",
       "      <td>EGNN</td>\n",
       "      <td>2</td>\n",
       "      <td>None</td>\n",
       "      <td>oxidation_potential</td>\n",
       "      <td>xtb-vertical</td>\n",
       "      <td>lightning_logs/version_0</td>\n",
       "      <td>128</td>\n",
       "      <td>NaN</td>\n",
       "      <td>0.116202</td>\n",
       "      <td>0.843920</td>\n",
       "    </tr>\n",
       "    <tr>\n",
       "      <th>3</th>\n",
       "      <td>12156906</td>\n",
       "      <td>../datasets/mdf-mos</td>\n",
       "      <td>0.0005</td>\n",
       "      <td>0.0</td>\n",
       "      <td>{'hidden_dim': 256, 'num_conv': 6}</td>\n",
       "      <td>4</td>\n",
       "      <td>64</td>\n",
       "      <td>EGNN</td>\n",
       "      <td>128</td>\n",
       "      <td>None</td>\n",
       "      <td>oxidation_potential</td>\n",
       "      <td>mopac_pm7-acn-adiabatic</td>\n",
       "      <td>lightning_logs/version_7</td>\n",
       "      <td>256</td>\n",
       "      <td>6.0</td>\n",
       "      <td>0.204383</td>\n",
       "      <td>0.575210</td>\n",
       "    </tr>\n",
       "    <tr>\n",
       "      <th>4</th>\n",
       "      <td>12156906</td>\n",
       "      <td>../datasets/mdf-mos</td>\n",
       "      <td>0.0005</td>\n",
       "      <td>0.0</td>\n",
       "      <td>{'hidden_dim': 256, 'num_conv': 6}</td>\n",
       "      <td>4</td>\n",
       "      <td>64</td>\n",
       "      <td>EGNN</td>\n",
       "      <td>32</td>\n",
       "      <td>None</td>\n",
       "      <td>oxidation_potential</td>\n",
       "      <td>mopac_pm7-acn-adiabatic</td>\n",
       "      <td>lightning_logs/version_6</td>\n",
       "      <td>256</td>\n",
       "      <td>6.0</td>\n",
       "      <td>0.213355</td>\n",
       "      <td>0.544973</td>\n",
       "    </tr>\n",
       "    <tr>\n",
       "      <th>10</th>\n",
       "      <td>12156906</td>\n",
       "      <td>../datasets/mdf-mos</td>\n",
       "      <td>0.0005</td>\n",
       "      <td>0.0</td>\n",
       "      <td>{'hidden_dim': 128, 'num_conv': 6}</td>\n",
       "      <td>4</td>\n",
       "      <td>64</td>\n",
       "      <td>EGNN</td>\n",
       "      <td>128</td>\n",
       "      <td>None</td>\n",
       "      <td>oxidation_potential</td>\n",
       "      <td>mopac_pm7-acn-adiabatic</td>\n",
       "      <td>lightning_logs/version_9</td>\n",
       "      <td>128</td>\n",
       "      <td>6.0</td>\n",
       "      <td>0.214270</td>\n",
       "      <td>0.528458</td>\n",
       "    </tr>\n",
       "    <tr>\n",
       "      <th>1</th>\n",
       "      <td>12156906</td>\n",
       "      <td>../datasets/mdf-mos</td>\n",
       "      <td>0.0005</td>\n",
       "      <td>0.0</td>\n",
       "      <td>{'hidden_dim': 128, 'num_conv': 3}</td>\n",
       "      <td>4</td>\n",
       "      <td>64</td>\n",
       "      <td>EGNN</td>\n",
       "      <td>128</td>\n",
       "      <td>None</td>\n",
       "      <td>oxidation_potential</td>\n",
       "      <td>mopac_pm7-acn-adiabatic</td>\n",
       "      <td>lightning_logs/version_8</td>\n",
       "      <td>128</td>\n",
       "      <td>3.0</td>\n",
       "      <td>0.224155</td>\n",
       "      <td>0.488191</td>\n",
       "    </tr>\n",
       "    <tr>\n",
       "      <th>0</th>\n",
       "      <td>12156906</td>\n",
       "      <td>../datasets/mdf-mos</td>\n",
       "      <td>0.0005</td>\n",
       "      <td>0.0</td>\n",
       "      <td>{'hidden_dim': 128, 'num_conv': 6}</td>\n",
       "      <td>4</td>\n",
       "      <td>64</td>\n",
       "      <td>EGNN</td>\n",
       "      <td>512</td>\n",
       "      <td>None</td>\n",
       "      <td>oxidation_potential</td>\n",
       "      <td>mopac_pm7-acn-adiabatic</td>\n",
       "      <td>lightning_logs/version_10</td>\n",
       "      <td>128</td>\n",
       "      <td>6.0</td>\n",
       "      <td>0.224597</td>\n",
       "      <td>0.478422</td>\n",
       "    </tr>\n",
       "  </tbody>\n",
       "</table>\n",
       "</div>"
      ],
      "text/plain": [
       "        seed            data_path  learning_rate  weight_decay  \\\n",
       "2   12156906  ../datasets/mdf-mos         0.0005           0.0   \n",
       "8   12156906  ../datasets/mdf-mos         0.0005           0.0   \n",
       "5   12156906  ../datasets/mdf-mos         0.0005           0.0   \n",
       "9   12156906  ../datasets/mdf-mos         0.0005           0.0   \n",
       "7   12156906  ../datasets/mdf-mos         0.0005           0.0   \n",
       "6   12156906  ../datasets/mdf-mos         0.0005           0.0   \n",
       "3   12156906  ../datasets/mdf-mos         0.0005           0.0   \n",
       "4   12156906  ../datasets/mdf-mos         0.0005           0.0   \n",
       "10  12156906  ../datasets/mdf-mos         0.0005           0.0   \n",
       "1   12156906  ../datasets/mdf-mos         0.0005           0.0   \n",
       "0   12156906  ../datasets/mdf-mos         0.0005           0.0   \n",
       "\n",
       "                          model_kwargs  num_loaders  batch_size model  epochs  \\\n",
       "2   {'hidden_dim': 256, 'num_conv': 6}            4          64  EGNN      32   \n",
       "8   {'hidden_dim': 256, 'num_conv': 6}            4          64  EGNN      32   \n",
       "5   {'hidden_dim': 128, 'num_conv': 6}            4          64  EGNN      32   \n",
       "9                  {'hidden_dim': 128}            4          64  EGNN      32   \n",
       "7                  {'hidden_dim': 128}            4          64  EGNN      16   \n",
       "6                  {'hidden_dim': 128}            4          64  EGNN       2   \n",
       "3   {'hidden_dim': 256, 'num_conv': 6}            4          64  EGNN     128   \n",
       "4   {'hidden_dim': 256, 'num_conv': 6}            4          64  EGNN      32   \n",
       "10  {'hidden_dim': 128, 'num_conv': 6}            4          64  EGNN     128   \n",
       "1   {'hidden_dim': 128, 'num_conv': 3}            4          64  EGNN     128   \n",
       "0   {'hidden_dim': 128, 'num_conv': 6}            4          64  EGNN     512   \n",
       "\n",
       "   fast_runs      target_property            target_method  \\\n",
       "2       None  oxidation_potential             xtb-vertical   \n",
       "8       None  oxidation_potential             xtb-vertical   \n",
       "5       None  oxidation_potential             xtb-vertical   \n",
       "9       None  oxidation_potential             xtb-vertical   \n",
       "7       None  oxidation_potential             xtb-vertical   \n",
       "6       None  oxidation_potential             xtb-vertical   \n",
       "3       None  oxidation_potential  mopac_pm7-acn-adiabatic   \n",
       "4       None  oxidation_potential  mopac_pm7-acn-adiabatic   \n",
       "10      None  oxidation_potential  mopac_pm7-acn-adiabatic   \n",
       "1       None  oxidation_potential  mopac_pm7-acn-adiabatic   \n",
       "0       None  oxidation_potential  mopac_pm7-acn-adiabatic   \n",
       "\n",
       "                     run_path  hp.hidden_dim  hp.num_conv       mae        r2  \n",
       "2    lightning_logs/version_4            256          6.0  0.078455  0.924612  \n",
       "8    lightning_logs/version_5            256          6.0  0.082232  0.918855  \n",
       "5    lightning_logs/version_3            128          6.0  0.083626  0.917218  \n",
       "9    lightning_logs/version_2            128          NaN  0.086950  0.909957  \n",
       "7    lightning_logs/version_1            128          NaN  0.090044  0.902878  \n",
       "6    lightning_logs/version_0            128          NaN  0.116202  0.843920  \n",
       "3    lightning_logs/version_7            256          6.0  0.204383  0.575210  \n",
       "4    lightning_logs/version_6            256          6.0  0.213355  0.544973  \n",
       "10   lightning_logs/version_9            128          6.0  0.214270  0.528458  \n",
       "1    lightning_logs/version_8            128          3.0  0.224155  0.488191  \n",
       "0   lightning_logs/version_10            128          6.0  0.224597  0.478422  "
      ]
     },
     "execution_count": 5,
     "metadata": {},
     "output_type": "execute_result"
    }
   ],
   "source": [
    "runs = pd.DataFrame([load_run(r) for r in run_paths]).sort_values('mae')\n",
    "runs"
   ]
  },
  {
   "cell_type": "markdown",
   "id": "459cc7cc-839b-4037-b297-d2317a77363c",
   "metadata": {},
   "source": [
    "## Plot Performance of Best Model\n",
    "Plot the predicted vs actual and the learning as a function of epoch"
   ]
  },
  {
   "cell_type": "code",
   "execution_count": 6,
   "id": "31464694-e2d4-43a1-96ed-35126c6a67dc",
   "metadata": {
    "tags": []
   },
   "outputs": [
    {
     "data": {
      "text/plain": [
       "seed                                         12156906\n",
       "data_path                         ../datasets/mdf-mos\n",
       "learning_rate                                  0.0005\n",
       "weight_decay                                      0.0\n",
       "model_kwargs       {'hidden_dim': 256, 'num_conv': 6}\n",
       "num_loaders                                         4\n",
       "batch_size                                         64\n",
       "model                                            EGNN\n",
       "epochs                                            128\n",
       "fast_runs                                        None\n",
       "target_property                   oxidation_potential\n",
       "target_method                 mopac_pm7-acn-adiabatic\n",
       "run_path                     lightning_logs/version_7\n",
       "hp.hidden_dim                                     256\n",
       "hp.num_conv                                       6.0\n",
       "mae                                          0.204383\n",
       "r2                                            0.57521\n",
       "Name: 3, dtype: object"
      ]
     },
     "execution_count": 6,
     "metadata": {},
     "output_type": "execute_result"
    }
   ],
   "source": [
    "best_run = runs.query(f'target_property==\"{prop}\" and target_method==\"{level}\"').sort_values('mae').iloc[0]\n",
    "best_run"
   ]
  },
  {
   "cell_type": "markdown",
   "id": "22d42ea3-a02a-4824-be2b-ab5d4236b9d7",
   "metadata": {},
   "source": [
    "Loss vs epoch"
   ]
  },
  {
   "cell_type": "code",
   "execution_count": 7,
   "id": "a9a3798b-7e54-4644-89f4-5fa9abb9eead",
   "metadata": {
    "tags": []
   },
   "outputs": [],
   "source": [
    "log_data = pd.read_csv(best_run.run_path / 'metrics.csv')"
   ]
  },
  {
   "cell_type": "code",
   "execution_count": 8,
   "id": "2ecc7461-a325-4a59-8b1f-1d29586a7147",
   "metadata": {
    "tags": []
   },
   "outputs": [
    {
     "data": {
      "text/plain": [
       "Text(0, 0.5, 'Loss')"
      ]
     },
     "execution_count": 8,
     "metadata": {},
     "output_type": "execute_result"
    },
    {
     "data": {
      "image/png": "[encoded data removed]",
      "text/plain": [
       "<Figure size 350x200 with 1 Axes>"
      ]
     },
     "metadata": {},
     "output_type": "display_data"
    }
   ],
   "source": [
    "fig, ax = plt.subplots(figsize=(3.5, 2.))\n",
    "\n",
    "ax.plot(log_data['epoch'] + 1, log_data['train_loss_epoch'], 'k--o')\n",
    "ax.plot(log_data['epoch'] + 1, log_data['val_loss_epoch'], 'r--o')\n",
    "\n",
    "ax.set_yscale('log')\n",
    "\n",
    "ax.set_xlabel('Epoch')\n",
    "ax.set_ylabel('Loss')"
   ]
  },
  {
   "cell_type": "markdown",
   "id": "13dd05cc-fb1f-4b7e-95c5-0fd1dd96ce55",
   "metadata": {},
   "source": [
    "Predicted vs Actual"
   ]
  },
  {
   "cell_type": "code",
   "execution_count": 9,
   "id": "5e8eb6c9-40d1-42de-8723-839dffce4a74",
   "metadata": {
    "tags": []
   },
   "outputs": [],
   "source": [
    "test_data = pd.read_csv(best_run.run_path / 'predictions.csv.gz')"
   ]
  },
  {
   "cell_type": "code",
   "execution_count": 10,
   "id": "009b7276-ee98-4268-943e-7f3ad80feea0",
   "metadata": {
    "tags": []
   },
   "outputs": [
    {
     "data": {
      "text/plain": [
       "Text(0, 0.5, 'Pred (V)')"
      ]
     },
     "execution_count": 10,
     "metadata": {},
     "output_type": "execute_result"
    },
    {
     "data": {
      "image/png": "[encoded data removed]",
      "text/plain": [
       "<Figure size 350x350 with 1 Axes>"
      ]
     },
     "metadata": {},
     "output_type": "display_data"
    }
   ],
   "source": [
    "fig, ax = plt.subplots(figsize=(3.5, 3.5))\n",
    "\n",
    "ax.scatter(test_data['true'], test_data['pred'], s=5)\n",
    "\n",
    "ax.set_xlim(ax.get_xlim())\n",
    "ax.set_ylim(ax.get_xlim())\n",
    "\n",
    "ax.plot(ax.get_xlim(), ax.get_xlim(), 'k--')\n",
    "\n",
    "ax.set_xlabel('True (V)')\n",
    "ax.set_ylabel('Pred (V)')\n"
   ]
  },
  {
   "cell_type": "markdown",
   "id": "ffdf58cf-d5e9-4ae3-b405-1cec4e03af30",
   "metadata": {},
   "source": [
    "## Store Best Model for Each Property\n",
    "Save the type and kwargs for each level"
   ]
  },
  {
   "cell_type": "code",
   "execution_count": 11,
   "id": "fba1a01a-fec4-465c-b28e-cff27d6d71a5",
   "metadata": {
    "tags": []
   },
   "outputs": [],
   "source": [
    "best_dir = Path('best_models')\n",
    "best_dir.mkdir(exist_ok=True)\n",
    "for (prop, level), group in runs.groupby(['target_property', 'target_method']):\n",
    "    (best_dir / f'{prop}-{level}.json').write_text(\n",
    "        json.dumps(group.drop(columns=['run_path']).sort_values('r2').iloc[-1].to_dict(), indent=2)\n",
    "    )"
   ]
  },
  {
   "cell_type": "code",
   "execution_count": null,
   "id": "a0892249-419e-4dbf-af33-a0ab8314f59d",
   "metadata": {},
   "outputs": [],
   "source": []
  }
 ],
 "metadata": {
  "kernelspec": {
   "display_name": "Python 3 (ipykernel)",
   "language": "python",
   "name": "python3"
  },
  "language_info": {
   "codemirror_mode": {
    "name": "ipython",
    "version": 3
   },
   "file_extension": ".py",
   "mimetype": "text/x-python",
   "name": "python",
   "nbconvert_exporter": "python",
   "pygments_lexer": "ipython3",
   "version": "3.10.13"
  }
 },
 "nbformat": 4,
 "nbformat_minor": 5
}
