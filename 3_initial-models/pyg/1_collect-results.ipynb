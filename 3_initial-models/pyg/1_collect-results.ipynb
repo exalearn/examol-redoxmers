{
 "cells": [
  {
   "cell_type": "markdown",
   "id": "c542a41a-013e-4600-b018-cb9128e922d5",
   "metadata": {},
   "source": [
    "# Summarize Results of Model Training\n",
    "Find the best model for each porblem"
   ]
  },
  {
   "cell_type": "code",
   "execution_count": 1,
   "id": "250ff8cc-7901-41a2-8808-2d5fcfd28f4f",
   "metadata": {
    "tags": []
   },
   "outputs": [],
   "source": [
    "%matplotlib inline\n",
    "from matplotlib import pyplot as plt\n",
    "from sklearn.metrics import mean_absolute_error, r2_score\n",
    "from pathlib import Path\n",
    "import pandas as pd\n",
    "import json"
   ]
  },
  {
   "cell_type": "markdown",
   "id": "7e0a2245-6fd2-4947-a1c8-d337bd49280e",
   "metadata": {},
   "source": [
    "Configuration"
   ]
  },
  {
   "cell_type": "code",
   "execution_count": 2,
   "id": "1680a22b-7450-4ccd-8f8a-9698981af846",
   "metadata": {
    "tags": []
   },
   "outputs": [],
   "source": [
    "prop, level = 'oxidation_potential', 'mopac_pm7-acn-adiabatic'"
   ]
  },
  {
   "cell_type": "markdown",
   "id": "13614a97-2321-4974-8306-41d56925580d",
   "metadata": {},
   "source": [
    "## Load all records\n",
    "The last thing our training script does is write `params.json`. Find these files then load in the assoicated data"
   ]
  },
  {
   "cell_type": "code",
   "execution_count": 3,
   "id": "afd3e3f0-57f3-44c8-95aa-06bcada37ac9",
   "metadata": {},
   "outputs": [
    {
     "name": "stdout",
     "output_type": "stream",
     "text": [
      "Found 1 completed runs\n"
     ]
    }
   ],
   "source": [
    "complete_runs = [x.parent for x in Path('runs').glob('*/test_summary.json')]\n",
    "print(f'Found {len(complete_runs)} completed runs')"
   ]
  },
  {
   "cell_type": "code",
   "execution_count": 4,
   "id": "00256cd7-25c5-491f-aa78-188cfcb3e444",
   "metadata": {},
   "outputs": [],
   "source": [
    "def load_summary(path: Path) -> dict:\n",
    "    \"\"\"Load the summary of the run configuration and parameters\n",
    "    \n",
    "    Args:\n",
    "        path: Path to the run\n",
    "    Returns:\n",
    "        Summary of inputs and results\n",
    "    \"\"\"\n",
    "    \n",
    "    # Load the configuration and summary\n",
    "    output = {'path': path, 'starting_model': path.parent.name}\n",
    "    output.update(json.loads((path / 'params.json').read_text()))\n",
    "    output.update(json.loads((path / 'test_summary.json').read_text()))\n",
    "    output['level_count'] = len(output['lower_levels'])\n",
    "    return output"
   ]
  },
  {
   "cell_type": "markdown",
   "id": "59b4b3a9-9490-4942-aab6-4e5b0d48dab4",
   "metadata": {},
   "source": [
    "Gather results and sort by the error with no data available about the molecule (most common case in our pipelines)"
   ]
  },
  {
   "cell_type": "code",
   "execution_count": 5,
   "id": "91a0c13a-dfa4-4e8d-9d5a-d1ec5e0373b3",
   "metadata": {},
   "outputs": [
    {
     "data": {
      "text/html": [
       "<div>\n",
       "<style scoped>\n",
       "    .dataframe tbody tr th:only-of-type {\n",
       "        vertical-align: middle;\n",
       "    }\n",
       "\n",
       "    .dataframe tbody tr th {\n",
       "        vertical-align: top;\n",
       "    }\n",
       "\n",
       "    .dataframe thead th {\n",
       "        text-align: right;\n",
       "    }\n",
       "</style>\n",
       "<table border=\"1\" class=\"dataframe\">\n",
       "  <thead>\n",
       "    <tr style=\"text-align: right;\">\n",
       "      <th></th>\n",
       "      <th>path</th>\n",
       "      <th>starting_model</th>\n",
       "      <th>seed</th>\n",
       "      <th>data_path</th>\n",
       "      <th>learning_rate</th>\n",
       "      <th>weight_decay</th>\n",
       "      <th>model_kwargs</th>\n",
       "      <th>num_loaders</th>\n",
       "      <th>batch_size</th>\n",
       "      <th>model</th>\n",
       "      <th>...</th>\n",
       "      <th>name</th>\n",
       "      <th>level</th>\n",
       "      <th>data_hash</th>\n",
       "      <th>level_1_mean_absolute_error</th>\n",
       "      <th>level_1_r2_score</th>\n",
       "      <th>level_1_mean_squared_error</th>\n",
       "      <th>level_0_mean_absolute_error</th>\n",
       "      <th>level_0_r2_score</th>\n",
       "      <th>level_0_mean_squared_error</th>\n",
       "      <th>level_count</th>\n",
       "    </tr>\n",
       "  </thead>\n",
       "  <tbody>\n",
       "    <tr>\n",
       "      <th>0</th>\n",
       "      <td>runs/model=EGNN-prop=oxidation_potential_xtb-v...</td>\n",
       "      <td>runs</td>\n",
       "      <td>12156906</td>\n",
       "      <td>../datasets/mdf-mos</td>\n",
       "      <td>0.0005</td>\n",
       "      <td>0.0</td>\n",
       "      <td>{}</td>\n",
       "      <td>4</td>\n",
       "      <td>64</td>\n",
       "      <td>EGNN</td>\n",
       "      <td>...</td>\n",
       "      <td>oxidation_potential</td>\n",
       "      <td>xtb-vertical</td>\n",
       "      <td>b499f5d21c60b5930ec8b9a780050c8a</td>\n",
       "      <td>0.105681</td>\n",
       "      <td>0.864417</td>\n",
       "      <td>0.019025</td>\n",
       "      <td>0.105681</td>\n",
       "      <td>0.864417</td>\n",
       "      <td>0.019025</td>\n",
       "      <td>1</td>\n",
       "    </tr>\n",
       "  </tbody>\n",
       "</table>\n",
       "<p>1 rows × 26 columns</p>\n",
       "</div>"
      ],
      "text/plain": [
       "                                                path starting_model      seed  \\\n",
       "0  runs/model=EGNN-prop=oxidation_potential_xtb-v...           runs  12156906   \n",
       "\n",
       "             data_path  learning_rate  weight_decay model_kwargs  num_loaders  \\\n",
       "0  ../datasets/mdf-mos         0.0005           0.0           {}            4   \n",
       "\n",
       "   batch_size model  ...                 name         level  \\\n",
       "0          64  EGNN  ...  oxidation_potential  xtb-vertical   \n",
       "\n",
       "                          data_hash level_1_mean_absolute_error  \\\n",
       "0  b499f5d21c60b5930ec8b9a780050c8a                    0.105681   \n",
       "\n",
       "  level_1_r2_score  level_1_mean_squared_error level_0_mean_absolute_error  \\\n",
       "0         0.864417                    0.019025                    0.105681   \n",
       "\n",
       "  level_0_r2_score level_0_mean_squared_error  level_count  \n",
       "0         0.864417                   0.019025            1  \n",
       "\n",
       "[1 rows x 26 columns]"
      ]
     },
     "execution_count": 5,
     "metadata": {},
     "output_type": "execute_result"
    }
   ],
   "source": [
    "summary = pd.DataFrame(map(load_summary, complete_runs)).sort_values('level_0_mean_absolute_error')\n",
    "summary.head()"
   ]
  },
  {
   "cell_type": "markdown",
   "id": "459cc7cc-839b-4037-b297-d2317a77363c",
   "metadata": {},
   "source": [
    "## Plot Performance of Best Model\n",
    "Plot the predicted vs actual and the learning as a function of epoch"
   ]
  },
  {
   "cell_type": "code",
   "execution_count": 9,
   "id": "31464694-e2d4-43a1-96ed-35126c6a67dc",
   "metadata": {
    "tags": []
   },
   "outputs": [
    {
     "ename": "IndexError",
     "evalue": "single positional indexer is out-of-bounds",
     "output_type": "error",
     "traceback": [
      "\u001b[0;31m---------------------------------------------------------------------------\u001b[0m",
      "\u001b[0;31mIndexError\u001b[0m                                Traceback (most recent call last)",
      "Cell \u001b[0;32mIn[9], line 1\u001b[0m\n\u001b[0;32m----> 1\u001b[0m best_run \u001b[38;5;241m=\u001b[39m \u001b[43msummary\u001b[49m\u001b[38;5;241;43m.\u001b[39;49m\u001b[43mquery\u001b[49m\u001b[43m(\u001b[49m\u001b[38;5;124;43mf\u001b[39;49m\u001b[38;5;124;43m'\u001b[39;49m\u001b[38;5;124;43mtarget_property==\u001b[39;49m\u001b[38;5;124;43m\"\u001b[39;49m\u001b[38;5;132;43;01m{\u001b[39;49;00m\u001b[43mprop\u001b[49m\u001b[38;5;132;43;01m}\u001b[39;49;00m\u001b[38;5;124;43m\"\u001b[39;49m\u001b[38;5;124;43m and target_method==\u001b[39;49m\u001b[38;5;124;43m\"\u001b[39;49m\u001b[38;5;132;43;01m{\u001b[39;49;00m\u001b[43mlevel\u001b[49m\u001b[38;5;132;43;01m}\u001b[39;49;00m\u001b[38;5;124;43m\"\u001b[39;49m\u001b[38;5;124;43m'\u001b[39;49m\u001b[43m)\u001b[49m\u001b[38;5;241;43m.\u001b[39;49m\u001b[43msort_values\u001b[49m\u001b[43m(\u001b[49m\u001b[38;5;124;43m'\u001b[39;49m\u001b[38;5;124;43mlevel_0_mean_absolute_error\u001b[39;49m\u001b[38;5;124;43m'\u001b[39;49m\u001b[43m)\u001b[49m\u001b[38;5;241;43m.\u001b[39;49m\u001b[43miloc\u001b[49m\u001b[43m[\u001b[49m\u001b[38;5;241;43m0\u001b[39;49m\u001b[43m]\u001b[49m\n\u001b[1;32m      2\u001b[0m best_run\n",
      "File \u001b[0;32m~/miniconda3/envs/examol/lib/python3.10/site-packages/pandas/core/indexing.py:1073\u001b[0m, in \u001b[0;36m_LocationIndexer.__getitem__\u001b[0;34m(self, key)\u001b[0m\n\u001b[1;32m   1070\u001b[0m axis \u001b[38;5;241m=\u001b[39m \u001b[38;5;28mself\u001b[39m\u001b[38;5;241m.\u001b[39maxis \u001b[38;5;129;01mor\u001b[39;00m \u001b[38;5;241m0\u001b[39m\n\u001b[1;32m   1072\u001b[0m maybe_callable \u001b[38;5;241m=\u001b[39m com\u001b[38;5;241m.\u001b[39mapply_if_callable(key, \u001b[38;5;28mself\u001b[39m\u001b[38;5;241m.\u001b[39mobj)\n\u001b[0;32m-> 1073\u001b[0m \u001b[38;5;28;01mreturn\u001b[39;00m \u001b[38;5;28;43mself\u001b[39;49m\u001b[38;5;241;43m.\u001b[39;49m\u001b[43m_getitem_axis\u001b[49m\u001b[43m(\u001b[49m\u001b[43mmaybe_callable\u001b[49m\u001b[43m,\u001b[49m\u001b[43m \u001b[49m\u001b[43maxis\u001b[49m\u001b[38;5;241;43m=\u001b[39;49m\u001b[43maxis\u001b[49m\u001b[43m)\u001b[49m\n",
      "File \u001b[0;32m~/miniconda3/envs/examol/lib/python3.10/site-packages/pandas/core/indexing.py:1625\u001b[0m, in \u001b[0;36m_iLocIndexer._getitem_axis\u001b[0;34m(self, key, axis)\u001b[0m\n\u001b[1;32m   1622\u001b[0m     \u001b[38;5;28;01mraise\u001b[39;00m \u001b[38;5;167;01mTypeError\u001b[39;00m(\u001b[38;5;124m\"\u001b[39m\u001b[38;5;124mCannot index by location index with a non-integer key\u001b[39m\u001b[38;5;124m\"\u001b[39m)\n\u001b[1;32m   1624\u001b[0m \u001b[38;5;66;03m# validate the location\u001b[39;00m\n\u001b[0;32m-> 1625\u001b[0m \u001b[38;5;28;43mself\u001b[39;49m\u001b[38;5;241;43m.\u001b[39;49m\u001b[43m_validate_integer\u001b[49m\u001b[43m(\u001b[49m\u001b[43mkey\u001b[49m\u001b[43m,\u001b[49m\u001b[43m \u001b[49m\u001b[43maxis\u001b[49m\u001b[43m)\u001b[49m\n\u001b[1;32m   1627\u001b[0m \u001b[38;5;28;01mreturn\u001b[39;00m \u001b[38;5;28mself\u001b[39m\u001b[38;5;241m.\u001b[39mobj\u001b[38;5;241m.\u001b[39m_ixs(key, axis\u001b[38;5;241m=\u001b[39maxis)\n",
      "File \u001b[0;32m~/miniconda3/envs/examol/lib/python3.10/site-packages/pandas/core/indexing.py:1557\u001b[0m, in \u001b[0;36m_iLocIndexer._validate_integer\u001b[0;34m(self, key, axis)\u001b[0m\n\u001b[1;32m   1555\u001b[0m len_axis \u001b[38;5;241m=\u001b[39m \u001b[38;5;28mlen\u001b[39m(\u001b[38;5;28mself\u001b[39m\u001b[38;5;241m.\u001b[39mobj\u001b[38;5;241m.\u001b[39m_get_axis(axis))\n\u001b[1;32m   1556\u001b[0m \u001b[38;5;28;01mif\u001b[39;00m key \u001b[38;5;241m>\u001b[39m\u001b[38;5;241m=\u001b[39m len_axis \u001b[38;5;129;01mor\u001b[39;00m key \u001b[38;5;241m<\u001b[39m \u001b[38;5;241m-\u001b[39mlen_axis:\n\u001b[0;32m-> 1557\u001b[0m     \u001b[38;5;28;01mraise\u001b[39;00m \u001b[38;5;167;01mIndexError\u001b[39;00m(\u001b[38;5;124m\"\u001b[39m\u001b[38;5;124msingle positional indexer is out-of-bounds\u001b[39m\u001b[38;5;124m\"\u001b[39m)\n",
      "\u001b[0;31mIndexError\u001b[0m: single positional indexer is out-of-bounds"
     ]
    }
   ],
   "source": [
    "best_run = summary.query(f'target_property==\"{prop}\" and target_method==\"{level}\"').sort_values('level_0_mean_absolute_error').iloc[0]\n",
    "best_run"
   ]
  },
  {
   "cell_type": "markdown",
   "id": "22d42ea3-a02a-4824-be2b-ab5d4236b9d7",
   "metadata": {},
   "source": [
    "Loss vs epoch"
   ]
  },
  {
   "cell_type": "code",
   "execution_count": null,
   "id": "a9a3798b-7e54-4644-89f4-5fa9abb9eead",
   "metadata": {
    "tags": []
   },
   "outputs": [],
   "source": [
    "log_data = pd.read_csv(best_run.run_path / 'metrics.csv')"
   ]
  },
  {
   "cell_type": "code",
   "execution_count": null,
   "id": "2ecc7461-a325-4a59-8b1f-1d29586a7147",
   "metadata": {
    "tags": []
   },
   "outputs": [],
   "source": [
    "fig, ax = plt.subplots(figsize=(3.5, 2.))\n",
    "\n",
    "ax.plot(log_data['epoch'] + 1, log_data['train_loss_epoch'], 'k--o')\n",
    "ax.plot(log_data['epoch'] + 1, log_data['val_loss_epoch'], 'r--o')\n",
    "\n",
    "ax.set_yscale('log')\n",
    "\n",
    "ax.set_xlabel('Epoch')\n",
    "ax.set_ylabel('Loss')"
   ]
  },
  {
   "cell_type": "markdown",
   "id": "13dd05cc-fb1f-4b7e-95c5-0fd1dd96ce55",
   "metadata": {},
   "source": [
    "Predicted vs Actual"
   ]
  },
  {
   "cell_type": "code",
   "execution_count": null,
   "id": "5e8eb6c9-40d1-42de-8723-839dffce4a74",
   "metadata": {
    "tags": []
   },
   "outputs": [],
   "source": [
    "test_data = pd.read_csv(best_run.run_path / 'predictions.csv.gz')"
   ]
  },
  {
   "cell_type": "code",
   "execution_count": null,
   "id": "009b7276-ee98-4268-943e-7f3ad80feea0",
   "metadata": {
    "tags": []
   },
   "outputs": [],
   "source": [
    "fig, ax = plt.subplots(figsize=(3.5, 3.5))\n",
    "\n",
    "ax.scatter(test_data['true'], test_data['pred'], s=5)\n",
    "\n",
    "ax.set_xlim(ax.get_xlim())\n",
    "ax.set_ylim(ax.get_xlim())\n",
    "\n",
    "ax.plot(ax.get_xlim(), ax.get_xlim(), 'k--')\n",
    "\n",
    "ax.set_xlabel('True (V)')\n",
    "ax.set_ylabel('Pred (V)')\n"
   ]
  },
  {
   "cell_type": "markdown",
   "id": "ffdf58cf-d5e9-4ae3-b405-1cec4e03af30",
   "metadata": {},
   "source": [
    "## Store Best Model for Each Property\n",
    "Save the type and kwargs for each level"
   ]
  },
  {
   "cell_type": "code",
   "execution_count": null,
   "id": "fba1a01a-fec4-465c-b28e-cff27d6d71a5",
   "metadata": {
    "tags": []
   },
   "outputs": [],
   "source": [
    "best_dir = Path('best_models')\n",
    "best_dir.mkdir(exist_ok=True)\n",
    "for (prop, level), group in runs.groupby(['target_property', 'target_method']):\n",
    "    (best_dir / f'{prop}-{level}.json').write_text(\n",
    "        json.dumps(group.drop(columns=['run_path']).sort_values('r2').iloc[-1].to_dict(), indent=2)\n",
    "    )"
   ]
  },
  {
   "cell_type": "code",
   "execution_count": null,
   "id": "a0892249-419e-4dbf-af33-a0ab8314f59d",
   "metadata": {},
   "outputs": [],
   "source": []
  }
 ],
 "metadata": {
  "kernelspec": {
   "display_name": "Python 3 (ipykernel)",
   "language": "python",
   "name": "python3"
  },
  "language_info": {
   "codemirror_mode": {
    "name": "ipython",
    "version": 3
   },
   "file_extension": ".py",
   "mimetype": "text/x-python",
   "name": "python",
   "nbconvert_exporter": "python",
   "pygments_lexer": "ipython3",
   "version": "3.10.13"
  }
 },
 "nbformat": 4,
 "nbformat_minor": 5
}
