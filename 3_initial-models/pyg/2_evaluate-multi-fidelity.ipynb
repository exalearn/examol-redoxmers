{
 "cells": [
  {
   "cell_type": "markdown",
   "id": "821f8f67-9a24-41e4-b194-d5a23ab2be08",
   "metadata": {},
   "source": [
    "# Evaluate Multi-Fidelity Learning\n",
    "See whether our strategy of delta learning leads to acceptable model performance.\n",
    "A model which predicts multiple levels concurrently does not need to be better than a model which only predict a single level to be useful,\n",
    "but we don't want it to be substantially worse."
   ]
  },
  {
   "cell_type": "code",
   "execution_count": 1,
   "id": "88402bf8-d0e1-4b2a-88cd-cbb2ec20fc75",
   "metadata": {
    "execution": {
     "iopub.execute_input": "2023-12-07T20:49:34.506688Z",
     "iopub.status.busy": "2023-12-07T20:49:34.506593Z",
     "iopub.status.idle": "2023-12-07T20:49:34.862491Z",
     "shell.execute_reply": "2023-12-07T20:49:34.862070Z"
    }
   },
   "outputs": [],
   "source": [
    "%matplotlib inline\n",
    "from matplotlib import pyplot as plt\n",
    "import pandas as pd"
   ]
  },
  {
   "cell_type": "markdown",
   "id": "8297f727-f419-454a-9fc3-86a58a6769b7",
   "metadata": {},
   "source": [
    "Configuration"
   ]
  },
  {
   "cell_type": "code",
   "execution_count": 2,
   "id": "83506262-00e6-4a59-899f-e500630e2973",
   "metadata": {
    "execution": {
     "iopub.execute_input": "2023-12-07T20:49:34.864538Z",
     "iopub.status.busy": "2023-12-07T20:49:34.864051Z",
     "iopub.status.idle": "2023-12-07T20:49:34.866206Z",
     "shell.execute_reply": "2023-12-07T20:49:34.865943Z"
    },
    "tags": []
   },
   "outputs": [],
   "source": [
    "target = ('oxidation_potential', 'cp2k_b3lyp_tzvpd-acn-adiabatic')"
   ]
  },
  {
   "cell_type": "markdown",
   "id": "3c2c150a-adee-49ab-8c38-9ce50b463046",
   "metadata": {},
   "source": [
    "## Load Model Summaries\n",
    "Load the data from the first notebook."
   ]
  },
  {
   "cell_type": "code",
   "execution_count": 3,
   "id": "46bae8ab-77e6-451b-8a14-56ad9ebb375a",
   "metadata": {
    "execution": {
     "iopub.execute_input": "2023-12-07T20:49:34.867313Z",
     "iopub.status.busy": "2023-12-07T20:49:34.867219Z",
     "iopub.status.idle": "2023-12-07T20:49:34.874064Z",
     "shell.execute_reply": "2023-12-07T20:49:34.873764Z"
    },
    "tags": []
   },
   "outputs": [
    {
     "name": "stdout",
     "output_type": "stream",
     "text": [
      "Found 6 relevant models\n"
     ]
    }
   ],
   "source": [
    "summary = pd.read_csv('model-summary.csv')\n",
    "summary.query(f'target_property==\"{target[0]}\" and target_method==\"{target[1]}\"', inplace=True)\n",
    "summary.sort_values('level_count', inplace=True)\n",
    "print(f'Found {len(summary)} relevant models')"
   ]
  },
  {
   "cell_type": "markdown",
   "id": "47e01590-8794-4da2-a192-6f8e568ff0c6",
   "metadata": {},
   "source": [
    "## Does the model improve with more levels?\n",
    "Most of the predictions of our model will be made without any low-fidelity data to enhance them, let's make sure the multi-fidelity model still works well for such models."
   ]
  },
  {
   "cell_type": "markdown",
   "id": "6b1cdd97-6339-439b-8b3b-0b9c4e2b5899",
   "metadata": {},
   "source": [
    "Get the best combination of fidelities for each number of levels"
   ]
  },
  {
   "cell_type": "code",
   "execution_count": 4,
   "id": "86f7a11b-a655-4853-8013-8f79df387b40",
   "metadata": {
    "execution": {
     "iopub.execute_input": "2023-12-07T20:49:34.875263Z",
     "iopub.status.busy": "2023-12-07T20:49:34.875163Z",
     "iopub.status.idle": "2023-12-07T20:49:34.878482Z",
     "shell.execute_reply": "2023-12-07T20:49:34.877970Z"
    },
    "tags": []
   },
   "outputs": [
    {
     "name": "stdout",
     "output_type": "stream",
     "text": [
      "Reduced to 4 choices\n"
     ]
    }
   ],
   "source": [
    "best_level_0 = summary.sort_values(['level_count', 'level_0_mean_absolute_error'], ascending=True).drop_duplicates('level_count', keep='first')\n",
    "print(f'Reduced to {len(best_level_0)} choices')"
   ]
  },
  {
   "cell_type": "code",
   "execution_count": 5,
   "id": "1f4b3893-aba5-4c0d-b61e-cc5d228156bb",
   "metadata": {
    "execution": {
     "iopub.execute_input": "2023-12-07T20:49:34.879651Z",
     "iopub.status.busy": "2023-12-07T20:49:34.879551Z",
     "iopub.status.idle": "2023-12-07T20:49:34.884760Z",
     "shell.execute_reply": "2023-12-07T20:49:34.884503Z"
    },
    "tags": []
   },
   "outputs": [
    {
     "data": {
      "text/html": [
       "<div>\n",
       "<style scoped>\n",
       "    .dataframe tbody tr th:only-of-type {\n",
       "        vertical-align: middle;\n",
       "    }\n",
       "\n",
       "    .dataframe tbody tr th {\n",
       "        vertical-align: top;\n",
       "    }\n",
       "\n",
       "    .dataframe thead th {\n",
       "        text-align: right;\n",
       "    }\n",
       "</style>\n",
       "<table border=\"1\" class=\"dataframe\">\n",
       "  <thead>\n",
       "    <tr style=\"text-align: right;\">\n",
       "      <th></th>\n",
       "      <th>level_count</th>\n",
       "      <th>lower_levels</th>\n",
       "      <th>level_0_mean_absolute_error</th>\n",
       "    </tr>\n",
       "  </thead>\n",
       "  <tbody>\n",
       "    <tr>\n",
       "      <th>1</th>\n",
       "      <td>0</td>\n",
       "      <td>[]</td>\n",
       "      <td>0.173865</td>\n",
       "    </tr>\n",
       "    <tr>\n",
       "      <th>5</th>\n",
       "      <td>1</td>\n",
       "      <td>['xtb-adiabatic']</td>\n",
       "      <td>0.196051</td>\n",
       "    </tr>\n",
       "    <tr>\n",
       "      <th>6</th>\n",
       "      <td>2</td>\n",
       "      <td>['xtb-adiabatic', 'cp2k_b3lyp_svp-acn-adiabatic']</td>\n",
       "      <td>0.207643</td>\n",
       "    </tr>\n",
       "    <tr>\n",
       "      <th>0</th>\n",
       "      <td>3</td>\n",
       "      <td>['xtb-adiabatic', 'cp2k_b3lyp_svp-acn-vertical...</td>\n",
       "      <td>0.169955</td>\n",
       "    </tr>\n",
       "  </tbody>\n",
       "</table>\n",
       "</div>"
      ],
      "text/plain": [
       "   level_count                                       lower_levels  \\\n",
       "1            0                                                 []   \n",
       "5            1                                  ['xtb-adiabatic']   \n",
       "6            2  ['xtb-adiabatic', 'cp2k_b3lyp_svp-acn-adiabatic']   \n",
       "0            3  ['xtb-adiabatic', 'cp2k_b3lyp_svp-acn-vertical...   \n",
       "\n",
       "   level_0_mean_absolute_error  \n",
       "1                     0.173865  \n",
       "5                     0.196051  \n",
       "6                     0.207643  \n",
       "0                     0.169955  "
      ]
     },
     "execution_count": 5,
     "metadata": {},
     "output_type": "execute_result"
    }
   ],
   "source": [
    "best_level_0[['level_count', 'lower_levels', 'level_0_mean_absolute_error']]"
   ]
  },
  {
   "cell_type": "code",
   "execution_count": 6,
   "id": "865565a8-7945-485f-80a9-06f4523624f5",
   "metadata": {
    "execution": {
     "iopub.execute_input": "2023-12-07T20:49:34.886169Z",
     "iopub.status.busy": "2023-12-07T20:49:34.885869Z",
     "iopub.status.idle": "2023-12-07T20:49:34.950994Z",
     "shell.execute_reply": "2023-12-07T20:49:34.950685Z"
    },
    "tags": []
   },
   "outputs": [
    {
     "data": {
      "text/plain": [
       "Text(0.5, 0, 'Level Count')"
      ]
     },
     "execution_count": 6,
     "metadata": {},
     "output_type": "execute_result"
    },
    {
     "data": {
      "image/png": "[encoded data removed]",
      "text/plain": [
       "<Figure size 350x250 with 1 Axes>"
      ]
     },
     "metadata": {},
     "output_type": "display_data"
    }
   ],
   "source": [
    "fig, ax = plt.subplots(figsize=(3.5, 2.5))\n",
    "\n",
    "ax.plot(best_level_0['level_count'], best_level_0['level_0_mean_absolute_error'], 'o')\n",
    "\n",
    "ax.set_ylabel('MAE (V)')\n",
    "ax.set_xlabel('Level Count')"
   ]
  },
  {
   "cell_type": "markdown",
   "id": "417b508d-b9c5-4502-ac26-73a63f779866",
   "metadata": {},
   "source": [
    "The model performance is slightly better with three levels of fidelity, but our test set size is small enough that I wouldn't make too much out of this or the decreased performance with levels 1-2."
   ]
  },
  {
   "cell_type": "markdown",
   "id": "0e3b9ff1-3031-418e-b0f3-47451b236385",
   "metadata": {},
   "source": [
    "## Does the performance increase with more data?\n",
    "A core idea behind of our multi-fidelity strategy is that we can make better inferences of a molecule's properties as we gather more data."
   ]
  },
  {
   "cell_type": "code",
   "execution_count": 7,
   "id": "957318f8-16b9-4c5d-a6de-24e7cc2f9c96",
   "metadata": {
    "execution": {
     "iopub.execute_input": "2023-12-07T20:49:34.952369Z",
     "iopub.status.busy": "2023-12-07T20:49:34.952263Z",
     "iopub.status.idle": "2023-12-07T20:49:34.954422Z",
     "shell.execute_reply": "2023-12-07T20:49:34.954129Z"
    },
    "tags": []
   },
   "outputs": [],
   "source": [
    "best_multilevel = best_level_0.iloc[-1]"
   ]
  },
  {
   "cell_type": "markdown",
   "id": "e07fcd87-a886-474d-898a-6451ae93645f",
   "metadata": {},
   "source": [
    "Plot the MAE as a function of level"
   ]
  },
  {
   "cell_type": "code",
   "execution_count": 8,
   "id": "f67adc1c-3e63-4d96-a873-e8bc66c76bb9",
   "metadata": {
    "execution": {
     "iopub.execute_input": "2023-12-07T20:49:34.955597Z",
     "iopub.status.busy": "2023-12-07T20:49:34.955498Z",
     "iopub.status.idle": "2023-12-07T20:49:35.019051Z",
     "shell.execute_reply": "2023-12-07T20:49:35.018711Z"
    },
    "tags": []
   },
   "outputs": [
    {
     "data": {
      "text/plain": [
       "Text(0, 0.5, 'MAE (V)')"
      ]
     },
     "execution_count": 8,
     "metadata": {},
     "output_type": "execute_result"
    },
    {
     "data": {
      "image/png": "[encoded data removed]",
      "text/plain": [
       "<Figure size 350x250 with 1 Axes>"
      ]
     },
     "metadata": {},
     "output_type": "display_data"
    }
   ],
   "source": [
    "fig, ax = plt.subplots(figsize=(3.5, 2.5))\n",
    "\n",
    "maes = [best_multilevel[f'level_{i}_mean_absolute_error'] for i in range(best_multilevel['level_count'] + 1)]\n",
    "ax.plot(maes, '--o')\n",
    "\n",
    "ax.set_xlabel('Levels completed')\n",
    "ax.set_ylabel('MAE (V)')"
   ]
  },
  {
   "cell_type": "markdown",
   "id": "ed31d999-0ce9-46f0-8ae0-f6cd39740c3c",
   "metadata": {},
   "source": [
    "The error goes up from \"nothing\" to \"xtb done,\" which is a little surprising."
   ]
  },
  {
   "cell_type": "code",
   "execution_count": null,
   "id": "ef06cbaf-7fab-4324-a230-e802cebcc75f",
   "metadata": {},
   "outputs": [],
   "source": []
  }
 ],
 "metadata": {
  "kernelspec": {
   "display_name": "Python 3 (ipykernel)",
   "language": "python",
   "name": "python3"
  },
  "language_info": {
   "codemirror_mode": {
    "name": "ipython",
    "version": 3
   },
   "file_extension": ".py",
   "mimetype": "text/x-python",
   "name": "python",
   "nbconvert_exporter": "python",
   "pygments_lexer": "ipython3",
   "version": "3.10.13"
  }
 },
 "nbformat": 4,
 "nbformat_minor": 5
}
