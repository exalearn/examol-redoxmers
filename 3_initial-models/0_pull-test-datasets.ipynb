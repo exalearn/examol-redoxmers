{
 "cells": [
  {
   "cell_type": "markdown",
   "id": "9690697a-3fa2-4e6f-be7b-88e794757667",
   "metadata": {},
   "source": [
    "# Pull Test Datasets\n",
    "Create test datasets from the initial datasets. "
   ]
  },
  {
   "cell_type": "code",
   "execution_count": 1,
   "id": "21f08639-6ca7-4daf-a9ac-4dbc6bbc0d33",
   "metadata": {},
   "outputs": [],
   "source": [
    "from sklearn.model_selection import train_test_split\n",
    "from examol.simulate.initialize import add_initial_conformer\n",
    "from examol.store.models import MoleculeRecord\n",
    "from pathlib import Path\n",
    "from hashlib import md5\n",
    "from tqdm import tqdm\n",
    "import numpy as np\n",
    "import json\n",
    "import gzip"
   ]
  },
  {
   "cell_type": "markdown",
   "id": "0795ce01-e887-4a91-a0b9-7f408d256b6a",
   "metadata": {},
   "source": [
    "Configuration"
   ]
  },
  {
   "cell_type": "code",
   "execution_count": 2,
   "id": "7ce0f88e-2ebc-45e7-9932-e009029c24d1",
   "metadata": {
    "tags": []
   },
   "outputs": [],
   "source": [
    "dataset_name: str = 'mdf-mos'\n",
    "target_prop: str = 'oxidation_potential'\n",
    "level: str = 'cp2k_b3lyp_s-acn-adiabatic'"
   ]
  },
  {
   "cell_type": "markdown",
   "id": "9292af8e-cbd5-4f38-a7eb-176ea8382ded",
   "metadata": {},
   "source": [
    "Defining where to look"
   ]
  },
  {
   "cell_type": "code",
   "execution_count": 3,
   "id": "5a9e7260-cee6-4fa9-ad11-787c65cbde25",
   "metadata": {
    "tags": []
   },
   "outputs": [],
   "source": [
    "data_path = Path(f'../2_initial-data/datasets/{dataset_name}.json.gz')\n",
    "out_path = Path(f'datasets/{dataset_name}/{target_prop}-{level}/')"
   ]
  },
  {
   "cell_type": "markdown",
   "id": "9fc22529-8f19-402d-95ff-aaaddbb33691",
   "metadata": {},
   "source": [
    "## Load the Data\n",
    "Load only records with the target level of fidelity into memory"
   ]
  },
  {
   "cell_type": "code",
   "execution_count": 4,
   "id": "9ed772ae-afec-45a8-9cb5-698a6b9e12cb",
   "metadata": {
    "tags": []
   },
   "outputs": [
    {
     "name": "stderr",
     "output_type": "stream",
     "text": [
      "1115110it [01:01, 18008.22it/s]"
     ]
    },
    {
     "name": "stdout",
     "output_type": "stream",
     "text": [
      "Loaded 93 matching records. Data Hash: b499f5d21c60b5930ec8b9a780050c8a\n"
     ]
    },
    {
     "name": "stderr",
     "output_type": "stream",
     "text": [
      "\n"
     ]
    }
   ],
   "source": [
    "train_records, test_records = [], []\n",
    "hasher = md5()\n",
    "rng = np.random.RandomState(1)\n",
    "all_levels = set()\n",
    "with gzip.open(data_path, 'rt') as fp:\n",
    "    for line in tqdm(fp):\n",
    "        # Update the hash and list with this record\n",
    "        hasher.update(line.encode())\n",
    "        \n",
    "        # Determine whether record should be in training or test set\n",
    "        in_test = rng.random() > 0.9\n",
    "        \n",
    "        # Skip if the record contains our property\n",
    "        record = json.loads(line)\n",
    "        all_levels.update(record['properties'].get(target_prop, {}).keys())\n",
    "        if not level in record['properties'].get(target_prop, {}):\n",
    "            continue\n",
    "        \n",
    "        if in_test:\n",
    "            test_records.append(line)\n",
    "        else: \n",
    "            train_records.append(line)\n",
    "data_hash = hasher.hexdigest()\n",
    "print(f'Loaded {len(test_records) + len(train_records)} matching records. Data Hash: {data_hash}')"
   ]
  },
  {
   "cell_type": "code",
   "execution_count": 5,
   "id": "676d8960-4a57-41d8-a328-2119e08b6282",
   "metadata": {
    "tags": []
   },
   "outputs": [
    {
     "name": "stdout",
     "output_type": "stream",
     "text": [
      "oxidation_potential available at levels: cp2k_b3lyp_svp-acn-adiabatic, cp2k_b3lyp_svp-acn-vertical, cp2k_b3lyp_svp-adiabatic, cp2k_b3lyp_svp-vertical, cp2k_b3lyp_tzvpd-acn-adiabatic, cp2k_b3lyp_tzvpd-acn-vertical, cp2k_b3lyp_tzvpd-adiabatic, cp2k_b3lyp_tzvpd-vertical, cp2k_wb97x-d3_tzvpd-acn-adiabatic, cp2k_wb97x-d3_tzvpd-acn-vertical, cp2k_wb97x-d3_tzvpd-adiabatic, cp2k_wb97x-d3_tzvpd-vertical, mopac_pm7-acn-adiabatic, mopac_pm7-acn-vertical, mopac_pm7-adiabatic, mopac_pm7-vertical, xtb-acn-adiabatic, xtb-acn-vertical, xtb-adiabatic, xtb-vertical\n"
     ]
    }
   ],
   "source": [
    "print(f'{target_prop} available at levels: {\", \".join(sorted(all_levels))}')"
   ]
  },
  {
   "cell_type": "markdown",
   "id": "5d987278-d3e5-44c8-9585-fbbc5c4dd88d",
   "metadata": {},
   "source": [
    "## Split then save to disk\n",
    "Save the matching records to disk if they are new"
   ]
  },
  {
   "cell_type": "code",
   "execution_count": 6,
   "id": "2db5b488-05a8-49a8-b3dd-bdeb116b3c8f",
   "metadata": {
    "tags": []
   },
   "outputs": [],
   "source": [
    "out_path.mkdir(parents=True, exist_ok=True)"
   ]
  },
  {
   "cell_type": "code",
   "execution_count": 7,
   "id": "3509f3ab-94b9-439e-bd36-d1d67202061a",
   "metadata": {
    "tags": []
   },
   "outputs": [],
   "source": [
    "md5_path = out_path / 'dataset.md5'\n",
    "if md5_path.is_file() and md5_path.read_text() == data_hash:\n",
    "    print('FYI: Nothing has changed since we wrote this data last')\n",
    "md5_path.write_text(data_hash);"
   ]
  },
  {
   "cell_type": "markdown",
   "id": "4f7a6336-b144-4721-898f-5efac8261f1a",
   "metadata": {},
   "source": [
    "Save each to disk"
   ]
  },
  {
   "cell_type": "code",
   "execution_count": 8,
   "id": "dac90dfd-9feb-4d1d-b4ae-a9fa5c6b5064",
   "metadata": {
    "tags": []
   },
   "outputs": [
    {
     "name": "stderr",
     "output_type": "stream",
     "text": [
      "train: 100%|█████████████████████████████████████████████████████████████████████████████████████████████████████████████████████████████████████████████████████████████████████████████████████████████████████████████████████████████████████████████| 82/82 [00:00<00:00, 128.00it/s]\n",
      "test: 100%|██████████████████████████████████████████████████████████████████████████████████████████████████████████████████████████████████████████████████████████████████████████████████████████████████████████████████████████████████████████████| 11/11 [00:00<00:00, 129.60it/s]\n"
     ]
    }
   ],
   "source": [
    "for label, records in zip(['train', 'test'], [train_records, test_records]):\n",
    "    with gzip.open(out_path / f'{label}.json.gz', 'wt') as fp:\n",
    "        for line in tqdm(records, desc=label):\n",
    "            fp.write(line)"
   ]
  },
  {
   "cell_type": "code",
   "execution_count": null,
   "id": "97e17d7f-1c81-4b5c-a50c-42db79d01024",
   "metadata": {},
   "outputs": [],
   "source": []
  }
 ],
 "metadata": {
  "kernelspec": {
   "display_name": "Python 3 (ipykernel)",
   "language": "python",
   "name": "python3"
  },
  "language_info": {
   "codemirror_mode": {
    "name": "ipython",
    "version": 3
   },
   "file_extension": ".py",
   "mimetype": "text/x-python",
   "name": "python",
   "nbconvert_exporter": "python",
   "pygments_lexer": "ipython3",
   "version": "3.10.13"
  }
 },
 "nbformat": 4,
 "nbformat_minor": 5
}
